{
 "cells": [
  {
   "cell_type": "code",
   "execution_count": 17,
   "metadata": {},
   "outputs": [
    {
     "ename": "SyntaxError",
     "evalue": "invalid syntax. Perhaps you forgot a comma? (Conv4d.py, line 75)",
     "output_type": "error",
     "traceback": [
      "Traceback \u001b[0;36m(most recent call last)\u001b[0m:\n",
      "\u001b[0m  File \u001b[1;32m~/miniconda3/envs/kamarovision/lib/python3.11/site-packages/IPython/core/interactiveshell.py:3577\u001b[0m in \u001b[1;35mrun_code\u001b[0m\n    exec(code_obj, self.user_global_ns, self.user_ns)\u001b[0m\n",
      "\u001b[0;36m  Cell \u001b[0;32mIn[17], line 3\u001b[0;36m\n\u001b[0;31m    import Conv4d\u001b[0;36m\n",
      "\u001b[0;36m  File \u001b[0;32m~/kamaro/kamarovision/scripts/Conv4d.py:75\u001b[0;36m\u001b[0m\n\u001b[0;31m    stride=self.stride[1::]\u001b[0m\n\u001b[0m           ^\u001b[0m\n\u001b[0;31mSyntaxError\u001b[0m\u001b[0;31m:\u001b[0m invalid syntax. Perhaps you forgot a comma?\n"
     ]
    }
   ],
   "source": [
    "import numpy as np\n",
    "import torch\n",
    "import Conv4d"
   ]
  },
  {
   "cell_type": "code",
   "execution_count": 26,
   "metadata": {},
   "outputs": [],
   "source": [
    "val_curr = [0.23,0.12,0,1]\n",
    "val_old = [0,0,0,0]\n",
    "\n",
    "data_curr_col = [val_curr,val_curr,val_curr,val_curr,val_curr,val_curr,val_curr,val_curr]\n",
    "\n",
    "data_curr = [[data_curr_col,data_curr_col,data_curr_col,data_curr_col,data_curr_col,data_curr_col,data_curr_col,data_curr_col],\n",
    "             [data_curr_col,data_curr_col,data_curr_col,data_curr_col,data_curr_col,data_curr_col,data_curr_col,data_curr_col],\n",
    "             [data_curr_col,data_curr_col,data_curr_col,data_curr_col,data_curr_col,data_curr_col,data_curr_col,data_curr_col],\n",
    "             [data_curr_col,data_curr_col,data_curr_col,data_curr_col,data_curr_col,data_curr_col,data_curr_col,data_curr_col],\n",
    "             [data_curr_col,data_curr_col,data_curr_col,data_curr_col,data_curr_col,data_curr_col,data_curr_col,data_curr_col],\n",
    "             [data_curr_col,data_curr_col,data_curr_col,data_curr_col,data_curr_col,data_curr_col,data_curr_col,data_curr_col],\n",
    "             [data_curr_col,data_curr_col,data_curr_col,data_curr_col,data_curr_col,data_curr_col,data_curr_col,data_curr_col],\n",
    "             [data_curr_col,data_curr_col,data_curr_col,data_curr_col,data_curr_col,data_curr_col,data_curr_col,data_curr_col]]"
   ]
  },
  {
   "cell_type": "code",
   "execution_count": 27,
   "metadata": {},
   "outputs": [],
   "source": [
    "x_data = torch.tensor(data_curr)"
   ]
  },
  {
   "cell_type": "code",
   "execution_count": 28,
   "metadata": {},
   "outputs": [
    {
     "data": {
      "text/plain": [
       "torch.Size([8, 8, 8, 4])"
      ]
     },
     "execution_count": 28,
     "metadata": {},
     "output_type": "execute_result"
    }
   ],
   "source": [
    "x_data.shape"
   ]
  },
  {
   "cell_type": "markdown",
   "metadata": {},
   "source": [
    "# Creating the Neural Network"
   ]
  },
  {
   "cell_type": "code",
   "execution_count": 29,
   "metadata": {},
   "outputs": [],
   "source": [
    "import os\n",
    "import torch\n",
    "from torch import nn\n",
    "from torch.utils.data import DataLoader\n",
    "from torchvision import datasets, transforms"
   ]
  },
  {
   "cell_type": "code",
   "execution_count": 30,
   "metadata": {},
   "outputs": [
    {
     "name": "stdout",
     "output_type": "stream",
     "text": [
      "Using cuda device\n"
     ]
    }
   ],
   "source": [
    "# Get device\n",
    "device = (\n",
    "    \"cuda\"\n",
    "    if torch.cuda.is_available()\n",
    "    else \"mps\"\n",
    "    if torch.backends.mps.is_available()\n",
    "    else \"cpu\"\n",
    ")\n",
    "print(f\"Using {device} device\")"
   ]
  },
  {
   "cell_type": "code",
   "execution_count": 21,
   "metadata": {},
   "outputs": [
    {
     "data": {
      "text/plain": [
       "16384.0"
      ]
     },
     "execution_count": 21,
     "metadata": {},
     "output_type": "execute_result"
    }
   ],
   "source": [
    "32**3 / 2\n"
   ]
  },
  {
   "cell_type": "code",
   "execution_count": 34,
   "metadata": {},
   "outputs": [],
   "source": [
    "class VisionEncoder(nn.Module):\n",
    "    def __init__(self):\n",
    "        super().__init__()\n",
    "        self.encoder = nn.Sequential(\n",
    "            nn.Conv3d(8**3, 4**3,kernel_size=3),\n",
    "            nn.ReLU(),\n",
    "            nn.Conv3d(4**3, 2**3,kernel_size=3),\n",
    "        )\n",
    "\n",
    "        self.decoder = nn.Sequential(\n",
    "            nn.ConvTranspose2d(2**3, 4**3, \n",
    "                               kernel_size=3, \n",
    "                               stride=2, \n",
    "                               padding=1, \n",
    "                               output_padding=1),\n",
    "            nn.ReLU(),\n",
    "            nn.ConvTranspose2d(4**3, 8**3, \n",
    "                               kernel_size=3, \n",
    "                               stride=2, \n",
    "                               padding=1, \n",
    "                               output_padding=1),\n",
    "            nn.Sigmoid()\n",
    "        )\n",
    "\n",
    "    def forward(self, x):\n",
    "        x = self.flatten(x)\n",
    "        logits = self.encoder\n",
    "        (x)\n",
    "        return logits"
   ]
  },
  {
   "cell_type": "code",
   "execution_count": 35,
   "metadata": {},
   "outputs": [],
   "source": [
    "model = VisionEncoder()"
   ]
  }
 ],
 "metadata": {
  "kernelspec": {
   "display_name": "kamarovision",
   "language": "python",
   "name": "python3"
  },
  "language_info": {
   "codemirror_mode": {
    "name": "ipython",
    "version": 3
   },
   "file_extension": ".py",
   "mimetype": "text/x-python",
   "name": "python",
   "nbconvert_exporter": "python",
   "pygments_lexer": "ipython3",
   "version": "3.11.9"
  }
 },
 "nbformat": 4,
 "nbformat_minor": 2
}
